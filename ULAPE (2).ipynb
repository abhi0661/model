{
  "cells": [
    {
      "cell_type": "code",
      "execution_count": 4,
      "metadata": {
        "_uuid": "3fab10da97dc29ece0b8dc82db5c5f586198fb10",
        "id": "ZjrOTgurr_bw"
      },
      "outputs": [],
      "source": [
        "import pandas as pd\n",
        "import numpy as np"
      ]
    },
    {
      "cell_type": "code",
      "execution_count": 8,
      "metadata": {
        "_uuid": "5ee4f24254d3ae65f5fd0462a7beb0790f6ef335",
        "colab": {
          "base_uri": "https://localhost:8080/",
          "height": 206
        },
        "id": "MrvBguHhr_bw",
        "outputId": "dc5567f0-7b5e-41ec-ec50-d5fde804f5d6"
      },
      "outputs": [
        {
          "data": {
            "text/html": [
              "<div>\n",
              "<style scoped>\n",
              "    .dataframe tbody tr th:only-of-type {\n",
              "        vertical-align: middle;\n",
              "    }\n",
              "\n",
              "    .dataframe tbody tr th {\n",
              "        vertical-align: top;\n",
              "    }\n",
              "\n",
              "    .dataframe thead th {\n",
              "        text-align: right;\n",
              "    }\n",
              "</style>\n",
              "<table border=\"1\" class=\"dataframe\">\n",
              "  <thead>\n",
              "    <tr style=\"text-align: right;\">\n",
              "      <th></th>\n",
              "      <th>text</th>\n",
              "      <th>label</th>\n",
              "    </tr>\n",
              "  </thead>\n",
              "  <tbody>\n",
              "    <tr>\n",
              "      <th>0</th>\n",
              "      <td>oh my gosh</td>\n",
              "      <td>1.0</td>\n",
              "    </tr>\n",
              "    <tr>\n",
              "      <th>1</th>\n",
              "      <td>trouble sleeping, confused mind, restless hear...</td>\n",
              "      <td>1.0</td>\n",
              "    </tr>\n",
              "    <tr>\n",
              "      <th>2</th>\n",
              "      <td>All wrong, back off dear, forward doubt. Stay ...</td>\n",
              "      <td>1.0</td>\n",
              "    </tr>\n",
              "    <tr>\n",
              "      <th>3</th>\n",
              "      <td>I've shifted my focus to something else but I'...</td>\n",
              "      <td>1.0</td>\n",
              "    </tr>\n",
              "    <tr>\n",
              "      <th>4</th>\n",
              "      <td>I'm restless and restless, it's been a month n...</td>\n",
              "      <td>1.0</td>\n",
              "    </tr>\n",
              "  </tbody>\n",
              "</table>\n",
              "</div>"
            ],
            "text/plain": [
              "                                                text  label\n",
              "0                                         oh my gosh    1.0\n",
              "1  trouble sleeping, confused mind, restless hear...    1.0\n",
              "2  All wrong, back off dear, forward doubt. Stay ...    1.0\n",
              "3  I've shifted my focus to something else but I'...    1.0\n",
              "4  I'm restless and restless, it's been a month n...    1.0"
            ]
          },
          "execution_count": 8,
          "metadata": {},
          "output_type": "execute_result"
        }
      ],
      "source": [
        "message=pd.read_csv('dataset.csv')\n",
        "message.head()"
      ]
    },
    {
      "cell_type": "markdown",
      "metadata": {
        "_uuid": "67ee5d48e9f8ac6d1e646c799dd45ec37af5e825",
        "id": "DDVw90q2r_bx"
      },
      "source": [
        "## Exploratory Data Analysis"
      ]
    },
    {
      "cell_type": "code",
      "execution_count": 9,
      "metadata": {
        "colab": {
          "base_uri": "https://localhost:8080/"
        },
        "id": "2PVKX2nLDbJW",
        "outputId": "0a63103d-21ff-47f0-be16-9b4054227d65"
      },
      "outputs": [
        {
          "data": {
            "text/plain": [
              "text     0\n",
              "label    2\n",
              "dtype: int64"
            ]
          },
          "execution_count": 9,
          "metadata": {},
          "output_type": "execute_result"
        }
      ],
      "source": [
        "message.isnull().sum()"
      ]
    },
    {
      "cell_type": "code",
      "execution_count": 10,
      "metadata": {
        "id": "aUUoGW3JHIUn"
      },
      "outputs": [],
      "source": [
        "message['text'] = message['text'].fillna('oh my gosh')"
      ]
    },
    {
      "cell_type": "code",
      "execution_count": 11,
      "metadata": {
        "id": "WauqsqCJDinl"
      },
      "outputs": [],
      "source": [
        "message['label'] = message['label'].fillna(0)"
      ]
    },
    {
      "cell_type": "code",
      "execution_count": 12,
      "metadata": {
        "colab": {
          "base_uri": "https://localhost:8080/"
        },
        "id": "vvOptCdHDkhF",
        "outputId": "8b628b1b-4bd8-4c94-84c7-ee6fdc959ab7"
      },
      "outputs": [
        {
          "data": {
            "text/plain": [
              "text     0\n",
              "label    0\n",
              "dtype: int64"
            ]
          },
          "execution_count": 12,
          "metadata": {},
          "output_type": "execute_result"
        }
      ],
      "source": [
        "message.isnull().sum()"
      ]
    },
    {
      "cell_type": "code",
      "execution_count": 13,
      "metadata": {
        "id": "HhpIPTh_D79E"
      },
      "outputs": [],
      "source": [
        "# converting 'Field_2' from float to int\n",
        "message['label'] = message['label'].apply(np.int64)"
      ]
    },
    {
      "cell_type": "code",
      "execution_count": 14,
      "metadata": {
        "_uuid": "6c7450eda9733db033403e4ae536876b4e9bb151",
        "colab": {
          "base_uri": "https://localhost:8080/",
          "height": 300
        },
        "id": "UFADbXVNr_by",
        "outputId": "57adfe4e-3ef6-4f68-b087-52de31fa5a63"
      },
      "outputs": [
        {
          "data": {
            "text/html": [
              "<div>\n",
              "<style scoped>\n",
              "    .dataframe tbody tr th:only-of-type {\n",
              "        vertical-align: middle;\n",
              "    }\n",
              "\n",
              "    .dataframe tbody tr th {\n",
              "        vertical-align: top;\n",
              "    }\n",
              "\n",
              "    .dataframe thead th {\n",
              "        text-align: right;\n",
              "    }\n",
              "</style>\n",
              "<table border=\"1\" class=\"dataframe\">\n",
              "  <thead>\n",
              "    <tr style=\"text-align: right;\">\n",
              "      <th></th>\n",
              "      <th>label</th>\n",
              "    </tr>\n",
              "  </thead>\n",
              "  <tbody>\n",
              "    <tr>\n",
              "      <th>count</th>\n",
              "      <td>6982.000000</td>\n",
              "    </tr>\n",
              "    <tr>\n",
              "      <th>mean</th>\n",
              "      <td>0.104984</td>\n",
              "    </tr>\n",
              "    <tr>\n",
              "      <th>std</th>\n",
              "      <td>0.306555</td>\n",
              "    </tr>\n",
              "    <tr>\n",
              "      <th>min</th>\n",
              "      <td>0.000000</td>\n",
              "    </tr>\n",
              "    <tr>\n",
              "      <th>25%</th>\n",
              "      <td>0.000000</td>\n",
              "    </tr>\n",
              "    <tr>\n",
              "      <th>50%</th>\n",
              "      <td>0.000000</td>\n",
              "    </tr>\n",
              "    <tr>\n",
              "      <th>75%</th>\n",
              "      <td>0.000000</td>\n",
              "    </tr>\n",
              "    <tr>\n",
              "      <th>max</th>\n",
              "      <td>1.000000</td>\n",
              "    </tr>\n",
              "  </tbody>\n",
              "</table>\n",
              "</div>"
            ],
            "text/plain": [
              "             label\n",
              "count  6982.000000\n",
              "mean      0.104984\n",
              "std       0.306555\n",
              "min       0.000000\n",
              "25%       0.000000\n",
              "50%       0.000000\n",
              "75%       0.000000\n",
              "max       1.000000"
            ]
          },
          "execution_count": 14,
          "metadata": {},
          "output_type": "execute_result"
        }
      ],
      "source": [
        "message.describe()"
      ]
    },
    {
      "cell_type": "code",
      "execution_count": 15,
      "metadata": {
        "_uuid": "dc7dccd0999c9a3efb2de51017be117f5e104b5b",
        "colab": {
          "base_uri": "https://localhost:8080/",
          "height": 175
        },
        "id": "FkulgP6nr_by",
        "outputId": "7fcd71c0-b38a-402d-a86d-faf24b657cb7"
      },
      "outputs": [
        {
          "data": {
            "text/html": [
              "<div>\n",
              "<style scoped>\n",
              "    .dataframe tbody tr th:only-of-type {\n",
              "        vertical-align: middle;\n",
              "    }\n",
              "\n",
              "    .dataframe tbody tr th {\n",
              "        vertical-align: top;\n",
              "    }\n",
              "\n",
              "    .dataframe thead tr th {\n",
              "        text-align: left;\n",
              "    }\n",
              "\n",
              "    .dataframe thead tr:last-of-type th {\n",
              "        text-align: right;\n",
              "    }\n",
              "</style>\n",
              "<table border=\"1\" class=\"dataframe\">\n",
              "  <thead>\n",
              "    <tr>\n",
              "      <th></th>\n",
              "      <th colspan=\"4\" halign=\"left\">text</th>\n",
              "    </tr>\n",
              "    <tr>\n",
              "      <th></th>\n",
              "      <th>count</th>\n",
              "      <th>unique</th>\n",
              "      <th>top</th>\n",
              "      <th>freq</th>\n",
              "    </tr>\n",
              "    <tr>\n",
              "      <th>label</th>\n",
              "      <th></th>\n",
              "      <th></th>\n",
              "      <th></th>\n",
              "      <th></th>\n",
              "    </tr>\n",
              "  </thead>\n",
              "  <tbody>\n",
              "    <tr>\n",
              "      <th>0</th>\n",
              "      <td>6249</td>\n",
              "      <td>6184</td>\n",
              "      <td>ni-ki best boy</td>\n",
              "      <td>11</td>\n",
              "    </tr>\n",
              "    <tr>\n",
              "      <th>1</th>\n",
              "      <td>733</td>\n",
              "      <td>713</td>\n",
              "      <td>\"No regrets or grudges/angry at things that ha...</td>\n",
              "      <td>5</td>\n",
              "    </tr>\n",
              "  </tbody>\n",
              "</table>\n",
              "</div>"
            ],
            "text/plain": [
              "       text                                                               \n",
              "      count unique                                                top freq\n",
              "label                                                                     \n",
              "0      6249   6184                                     ni-ki best boy   11\n",
              "1       733    713  \"No regrets or grudges/angry at things that ha...    5"
            ]
          },
          "execution_count": 15,
          "metadata": {},
          "output_type": "execute_result"
        }
      ],
      "source": [
        "message.groupby('label').describe()"
      ]
    },
    {
      "cell_type": "code",
      "execution_count": 16,
      "metadata": {
        "_uuid": "4ea80a382f1f748b6f0c61c37bac58c3bb4aa1bb",
        "colab": {
          "base_uri": "https://localhost:8080/",
          "height": 206
        },
        "id": "En3rcBC4r_bz",
        "outputId": "15a99ad2-e9cc-4f9a-b849-7e0f8fe3a006"
      },
      "outputs": [
        {
          "data": {
            "text/html": [
              "<div>\n",
              "<style scoped>\n",
              "    .dataframe tbody tr th:only-of-type {\n",
              "        vertical-align: middle;\n",
              "    }\n",
              "\n",
              "    .dataframe tbody tr th {\n",
              "        vertical-align: top;\n",
              "    }\n",
              "\n",
              "    .dataframe thead th {\n",
              "        text-align: right;\n",
              "    }\n",
              "</style>\n",
              "<table border=\"1\" class=\"dataframe\">\n",
              "  <thead>\n",
              "    <tr style=\"text-align: right;\">\n",
              "      <th></th>\n",
              "      <th>text</th>\n",
              "      <th>label</th>\n",
              "      <th>length</th>\n",
              "    </tr>\n",
              "  </thead>\n",
              "  <tbody>\n",
              "    <tr>\n",
              "      <th>0</th>\n",
              "      <td>oh my gosh</td>\n",
              "      <td>1</td>\n",
              "      <td>10</td>\n",
              "    </tr>\n",
              "    <tr>\n",
              "      <th>1</th>\n",
              "      <td>trouble sleeping, confused mind, restless hear...</td>\n",
              "      <td>1</td>\n",
              "      <td>64</td>\n",
              "    </tr>\n",
              "    <tr>\n",
              "      <th>2</th>\n",
              "      <td>All wrong, back off dear, forward doubt. Stay ...</td>\n",
              "      <td>1</td>\n",
              "      <td>78</td>\n",
              "    </tr>\n",
              "    <tr>\n",
              "      <th>3</th>\n",
              "      <td>I've shifted my focus to something else but I'...</td>\n",
              "      <td>1</td>\n",
              "      <td>61</td>\n",
              "    </tr>\n",
              "    <tr>\n",
              "      <th>4</th>\n",
              "      <td>I'm restless and restless, it's been a month n...</td>\n",
              "      <td>1</td>\n",
              "      <td>72</td>\n",
              "    </tr>\n",
              "  </tbody>\n",
              "</table>\n",
              "</div>"
            ],
            "text/plain": [
              "                                                text  label  length\n",
              "0                                         oh my gosh      1      10\n",
              "1  trouble sleeping, confused mind, restless hear...      1      64\n",
              "2  All wrong, back off dear, forward doubt. Stay ...      1      78\n",
              "3  I've shifted my focus to something else but I'...      1      61\n",
              "4  I'm restless and restless, it's been a month n...      1      72"
            ]
          },
          "execution_count": 16,
          "metadata": {},
          "output_type": "execute_result"
        }
      ],
      "source": [
        "message['length']=message['text'].str.len()\n",
        "message.head()"
      ]
    },
    {
      "cell_type": "markdown",
      "metadata": {
        "_uuid": "f5a51c4b8fc0eeafc40dd1bd401aa366800dca8d",
        "id": "l02I1HP_r_b0"
      },
      "source": [
        "### Data Visualization\n",
        "Let's visualize this! Let's do the imports:"
      ]
    },
    {
      "cell_type": "code",
      "execution_count": 19,
      "metadata": {
        "_uuid": "687ad4261e619dc120bdff4f20ecd69dcaa95c1f",
        "id": "AuYE5cjsr_b0"
      },
      "outputs": [],
      "source": [
        "import matplotlib.pyplot as plt\n",
        "import seaborn as sns\n",
        "%matplotlib inline"
      ]
    },
    {
      "cell_type": "code",
      "execution_count": 20,
      "metadata": {
        "_uuid": "275ea822b0c6bef20b23f2724138da1faa46fd5d",
        "colab": {
          "base_uri": "https://localhost:8080/",
          "height": 447
        },
        "id": "4FnFGYbJr_b1",
        "outputId": "2cf7859b-8a52-4935-9561-c8350bdd6a23"
      },
      "outputs": [
        {
          "data": {
            "text/plain": [
              "<Axes: ylabel='Frequency'>"
            ]
          },
          "execution_count": 20,
          "metadata": {},
          "output_type": "execute_result"
        },
        {
          "data": {
            "image/png": "[encoded data removed]",
            "text/plain": [
              "<Figure size 640x480 with 1 Axes>"
            ]
          },
          "metadata": {},
          "output_type": "display_data"
        }
      ],
      "source": [
        "message['length'].plot(bins=50,kind='hist')"
      ]
    },
    {
      "cell_type": "code",
      "execution_count": 21,
      "metadata": {
        "_uuid": "4d7658a542ab863a2d9f96726e4cfa2d901f2763",
        "colab": {
          "base_uri": "https://localhost:8080/"
        },
        "id": "Ar_MFAHLr_b1",
        "outputId": "f2a3cc00-6a77-4f3c-c18d-2e7f092d8433"
      },
      "outputs": [
        {
          "data": {
            "text/plain": [
              "count    6982.000000\n",
              "mean       68.397737\n",
              "std        59.120715\n",
              "min         2.000000\n",
              "25%        26.000000\n",
              "50%        51.000000\n",
              "75%        90.000000\n",
              "max       371.000000\n",
              "Name: length, dtype: float64"
            ]
          },
          "execution_count": 21,
          "metadata": {},
          "output_type": "execute_result"
        }
      ],
      "source": [
        "message.length.describe()"
      ]
    },
    {
      "cell_type": "markdown",
      "metadata": {
        "_uuid": "abd4b8d46edb4450be3cb2169173f4a3c9e5ce63",
        "id": "jqPX4kBTr_b2"
      },
      "source": [
        "Woah! 910 characters, let's use masking to find this message:"
      ]
    },
    {
      "cell_type": "code",
      "execution_count": 22,
      "metadata": {
        "_uuid": "3fb6c3ea1a7bc996e841851bbf0186512f1ca108",
        "colab": {
          "base_uri": "https://localhost:8080/",
          "height": 53
        },
        "id": "LaxYcACKr_b2",
        "outputId": "d408e187-68fc-4662-c931-0c4c7ba785fe"
      },
      "outputs": [
        {
          "data": {
            "text/plain": [
              "\"um! Pls, how do I feel afraid to go out of the house because I'm afraid to meet people, I don't know why, even though I wasn't like this before, I used to be nervous, then I'm so anxious I'm so sweaty\""
            ]
          },
          "execution_count": 22,
          "metadata": {},
          "output_type": "execute_result"
        }
      ],
      "source": [
        "message[message['length']==200]['text'].iloc[0]"
      ]
    },
    {
      "cell_type": "markdown",
      "metadata": {
        "_uuid": "bc5af0471b6ba34939d3bc29674bea69dd951670",
        "id": "a0bE20cQr_b3"
      },
      "source": [
        "Looks like we have some sort of Romeo sending texts! But let's focus back on the idea of trying to see if message length is a distinguishing feature between ham and spam"
      ]
    },
    {
      "cell_type": "markdown",
      "metadata": {
        "_uuid": "1992213dcf47852ec603874ddaa4c820b94dae65",
        "id": "J6s0YKmMr_b3"
      },
      "source": [
        "## Text Pre-processing"
      ]
    },
    {
      "cell_type": "code",
      "execution_count": 24,
      "metadata": {
        "colab": {
          "base_uri": "https://localhost:8080/"
        },
        "id": "WA2Eew6vuZ8z",
        "outputId": "505bd967-4a86-47d2-be0e-d237ddbc2ab5"
      },
      "outputs": [
        {
          "name": "stderr",
          "output_type": "stream",
          "text": [
            "[nltk_data] Downloading package stopwords to\n",
            "[nltk_data]     C:\\Users\\hp\\AppData\\Roaming\\nltk_data...\n",
            "[nltk_data]   Unzipping corpora\\stopwords.zip.\n"
          ]
        },
        {
          "data": {
            "text/plain": [
              "True"
            ]
          },
          "execution_count": 24,
          "metadata": {},
          "output_type": "execute_result"
        }
      ],
      "source": [
        "import nltk\n",
        "nltk.download('stopwords')"
      ]
    },
    {
      "cell_type": "code",
      "execution_count": 25,
      "metadata": {
        "_uuid": "91421244873b355b3a3e238e511509bb4fa0bac9",
        "colab": {
          "base_uri": "https://localhost:8080/"
        },
        "id": "MgjOq9FHr_b4",
        "outputId": "10a83833-b9e2-4347-8b33-ff0e1a36cd37"
      },
      "outputs": [
        {
          "data": {
            "text/plain": [
              "['i', 'me', 'my', 'myself', 'we', 'our', 'ours', 'ourselves', 'you', \"you're\"]"
            ]
          },
          "execution_count": 25,
          "metadata": {},
          "output_type": "execute_result"
        }
      ],
      "source": [
        "from nltk.corpus import stopwords\n",
        "stopwords.words('english')[0:10]"
      ]
    },
    {
      "cell_type": "markdown",
      "metadata": {
        "_uuid": "45d5d17fb78f3098ea2c15143860922b25fc29d2",
        "id": "ysRaCjdwr_b5"
      },
      "source": [
        "Now let's put both of these together in a function to apply it to our DataFrame later on:"
      ]
    },
    {
      "cell_type": "code",
      "execution_count": 26,
      "metadata": {
        "id": "Z2n2xvmGEy9b"
      },
      "outputs": [],
      "source": [
        "import string"
      ]
    },
    {
      "cell_type": "code",
      "execution_count": 27,
      "metadata": {
        "_uuid": "8ee6f7fc69b9efe438ba695c806d0c1f89bbe6e5",
        "id": "kI6tTVd3r_b5"
      },
      "outputs": [],
      "source": [
        "def text_process(mess):\n",
        "    nopunc =[char for char in mess if char not in string.punctuation]\n",
        "    nopunc=''.join(nopunc)\n",
        "    return [word for word in nopunc.split() if word.lower() not in stopwords.words('english')]"
      ]
    },
    {
      "cell_type": "markdown",
      "metadata": {
        "_uuid": "b394fbbba09ad10834903ae7c2bb15e1cc97d591",
        "id": "_V_nExj9r_b5"
      },
      "source": [
        "Here is the original DataFrame again:"
      ]
    },
    {
      "cell_type": "code",
      "execution_count": 28,
      "metadata": {
        "_uuid": "77eaa612dede5c0b89ceafbdc6e4f1e803f872b9",
        "colab": {
          "base_uri": "https://localhost:8080/",
          "height": 206
        },
        "id": "if0pkK-1r_b6",
        "outputId": "7e9a62d5-9b5c-4dc7-832d-7f14da32ac05"
      },
      "outputs": [
        {
          "data": {
            "text/html": [
              "<div>\n",
              "<style scoped>\n",
              "    .dataframe tbody tr th:only-of-type {\n",
              "        vertical-align: middle;\n",
              "    }\n",
              "\n",
              "    .dataframe tbody tr th {\n",
              "        vertical-align: top;\n",
              "    }\n",
              "\n",
              "    .dataframe thead th {\n",
              "        text-align: right;\n",
              "    }\n",
              "</style>\n",
              "<table border=\"1\" class=\"dataframe\">\n",
              "  <thead>\n",
              "    <tr style=\"text-align: right;\">\n",
              "      <th></th>\n",
              "      <th>text</th>\n",
              "      <th>label</th>\n",
              "      <th>length</th>\n",
              "    </tr>\n",
              "  </thead>\n",
              "  <tbody>\n",
              "    <tr>\n",
              "      <th>0</th>\n",
              "      <td>oh my gosh</td>\n",
              "      <td>1</td>\n",
              "      <td>10</td>\n",
              "    </tr>\n",
              "    <tr>\n",
              "      <th>1</th>\n",
              "      <td>trouble sleeping, confused mind, restless hear...</td>\n",
              "      <td>1</td>\n",
              "      <td>64</td>\n",
              "    </tr>\n",
              "    <tr>\n",
              "      <th>2</th>\n",
              "      <td>All wrong, back off dear, forward doubt. Stay ...</td>\n",
              "      <td>1</td>\n",
              "      <td>78</td>\n",
              "    </tr>\n",
              "    <tr>\n",
              "      <th>3</th>\n",
              "      <td>I've shifted my focus to something else but I'...</td>\n",
              "      <td>1</td>\n",
              "      <td>61</td>\n",
              "    </tr>\n",
              "    <tr>\n",
              "      <th>4</th>\n",
              "      <td>I'm restless and restless, it's been a month n...</td>\n",
              "      <td>1</td>\n",
              "      <td>72</td>\n",
              "    </tr>\n",
              "  </tbody>\n",
              "</table>\n",
              "</div>"
            ],
            "text/plain": [
              "                                                text  label  length\n",
              "0                                         oh my gosh      1      10\n",
              "1  trouble sleeping, confused mind, restless hear...      1      64\n",
              "2  All wrong, back off dear, forward doubt. Stay ...      1      78\n",
              "3  I've shifted my focus to something else but I'...      1      61\n",
              "4  I'm restless and restless, it's been a month n...      1      72"
            ]
          },
          "execution_count": 28,
          "metadata": {},
          "output_type": "execute_result"
        }
      ],
      "source": [
        "message.head()"
      ]
    },
    {
      "cell_type": "code",
      "execution_count": 29,
      "metadata": {
        "_uuid": "5430151da61ebb4d752d299820d7178497419773",
        "colab": {
          "base_uri": "https://localhost:8080/"
        },
        "id": "tZV0ZOejr_b6",
        "outputId": "4ed40c4e-a19f-4892-8abb-74e732290d81"
      },
      "outputs": [
        {
          "data": {
            "text/plain": [
              "0                                           [oh, gosh]\n",
              "1    [trouble, sleeping, confused, mind, restless, ...\n",
              "2    [wrong, back, dear, forward, doubt, Stay, rest...\n",
              "3    [Ive, shifted, focus, something, else, Im, sti...\n",
              "4           [Im, restless, restless, month, boy, mean]\n",
              "Name: text, dtype: object"
            ]
          },
          "execution_count": 29,
          "metadata": {},
          "output_type": "execute_result"
        }
      ],
      "source": [
        "message['text'].head(5).apply(text_process)"
      ]
    },
    {
      "cell_type": "code",
      "execution_count": 30,
      "metadata": {
        "_uuid": "1f75d8f2fd2b5b1ad19f98fc0d4298198b37dcd3",
        "colab": {
          "base_uri": "https://localhost:8080/",
          "height": 206
        },
        "id": "7UI14Kjir_b6",
        "outputId": "31f65fd5-0f97-4a4a-9abe-09b7be61b281"
      },
      "outputs": [
        {
          "data": {
            "text/html": [
              "<div>\n",
              "<style scoped>\n",
              "    .dataframe tbody tr th:only-of-type {\n",
              "        vertical-align: middle;\n",
              "    }\n",
              "\n",
              "    .dataframe tbody tr th {\n",
              "        vertical-align: top;\n",
              "    }\n",
              "\n",
              "    .dataframe thead th {\n",
              "        text-align: right;\n",
              "    }\n",
              "</style>\n",
              "<table border=\"1\" class=\"dataframe\">\n",
              "  <thead>\n",
              "    <tr style=\"text-align: right;\">\n",
              "      <th></th>\n",
              "      <th>text</th>\n",
              "      <th>label</th>\n",
              "      <th>length</th>\n",
              "    </tr>\n",
              "  </thead>\n",
              "  <tbody>\n",
              "    <tr>\n",
              "      <th>0</th>\n",
              "      <td>oh my gosh</td>\n",
              "      <td>1</td>\n",
              "      <td>10</td>\n",
              "    </tr>\n",
              "    <tr>\n",
              "      <th>1</th>\n",
              "      <td>trouble sleeping, confused mind, restless hear...</td>\n",
              "      <td>1</td>\n",
              "      <td>64</td>\n",
              "    </tr>\n",
              "    <tr>\n",
              "      <th>2</th>\n",
              "      <td>All wrong, back off dear, forward doubt. Stay ...</td>\n",
              "      <td>1</td>\n",
              "      <td>78</td>\n",
              "    </tr>\n",
              "    <tr>\n",
              "      <th>3</th>\n",
              "      <td>I've shifted my focus to something else but I'...</td>\n",
              "      <td>1</td>\n",
              "      <td>61</td>\n",
              "    </tr>\n",
              "    <tr>\n",
              "      <th>4</th>\n",
              "      <td>I'm restless and restless, it's been a month n...</td>\n",
              "      <td>1</td>\n",
              "      <td>72</td>\n",
              "    </tr>\n",
              "  </tbody>\n",
              "</table>\n",
              "</div>"
            ],
            "text/plain": [
              "                                                text  label  length\n",
              "0                                         oh my gosh      1      10\n",
              "1  trouble sleeping, confused mind, restless hear...      1      64\n",
              "2  All wrong, back off dear, forward doubt. Stay ...      1      78\n",
              "3  I've shifted my focus to something else but I'...      1      61\n",
              "4  I'm restless and restless, it's been a month n...      1      72"
            ]
          },
          "execution_count": 30,
          "metadata": {},
          "output_type": "execute_result"
        }
      ],
      "source": [
        "message.head()"
      ]
    },
    {
      "cell_type": "markdown",
      "metadata": {
        "_uuid": "15d721555b0ebfcc9e90e5cf3ada2493fb4581c8",
        "id": "KprItXOVr_b7"
      },
      "source": [
        "### Continuing Normalization"
      ]
    },
    {
      "cell_type": "markdown",
      "metadata": {
        "_uuid": "d2de9a06cee7a0f7a6e287c06c34d603c6a50e9a",
        "id": "oNeKesq2r_b7"
      },
      "source": [
        "## Vectorization"
      ]
    },
    {
      "cell_type": "code",
      "execution_count": 31,
      "metadata": {
        "_uuid": "6557e2a23e6ca8afbc89c076225174ab5d4e3fb9",
        "id": "O7RSBOrSr_b8"
      },
      "outputs": [],
      "source": [
        "from sklearn.feature_extraction.text import CountVectorizer"
      ]
    },
    {
      "cell_type": "markdown",
      "metadata": {
        "_uuid": "1ce1441a52b679cda062b14fad0a0124f805c032",
        "id": "xkzqdgizr_b8"
      },
      "source": [
        "Let's take one text message and get its bag-of-words counts as a vector, putting to use our new `bow_transformer`:"
      ]
    },
    {
      "cell_type": "code",
      "execution_count": 32,
      "metadata": {
        "_uuid": "4b65ee4da31d8240d0c0bf15eb1efce5cc539be5",
        "colab": {
          "base_uri": "https://localhost:8080/"
        },
        "id": "ylSonkyAr_b8",
        "outputId": "10e4f415-9a06-435b-f372-d45fc2f7be24"
      },
      "outputs": [
        {
          "name": "stdout",
          "output_type": "stream",
          "text": [
            "14174\n"
          ]
        }
      ],
      "source": [
        "bow_transformer = CountVectorizer(analyzer=text_process).fit(message['text'].values.astype('U'))\n",
        "print(len(bow_transformer.vocabulary_))"
      ]
    },
    {
      "cell_type": "code",
      "execution_count": 33,
      "metadata": {
        "_uuid": "03ecabf0c884e11c8b037c16908e9d3b53f7585a",
        "colab": {
          "base_uri": "https://localhost:8080/"
        },
        "id": "lUSy6TxNr_cG",
        "outputId": "2c662c09-76bf-4d1e-82a8-73d4cddfece3"
      },
      "outputs": [
        {
          "name": "stdout",
          "output_type": "stream",
          "text": [
            "I've shifted my focus to something else but I'm still worried\n"
          ]
        }
      ],
      "source": [
        "message4=message['text'][3]\n",
        "print(message4)"
      ]
    },
    {
      "cell_type": "markdown",
      "metadata": {
        "_uuid": "62844a431cdf3049f5c9844864a122897782830d",
        "id": "KId9duSQr_cH"
      },
      "source": [
        "Now let's see its vector representation:"
      ]
    },
    {
      "cell_type": "code",
      "execution_count": 34,
      "metadata": {
        "_uuid": "56ca67e4fc96e62bb3153401f60657ec4dd2c028",
        "colab": {
          "base_uri": "https://localhost:8080/"
        },
        "id": "HUwx_Nnkr_cH",
        "outputId": "a0b3553b-6115-4f48-b149-a613948ddf7c"
      },
      "outputs": [
        {
          "name": "stdout",
          "output_type": "stream",
          "text": [
            "  (0, 2286)\t1\n",
            "  (0, 2350)\t1\n",
            "  (0, 7121)\t1\n",
            "  (0, 7549)\t1\n",
            "  (0, 11827)\t1\n",
            "  (0, 12081)\t1\n",
            "  (0, 12251)\t1\n",
            "  (0, 13504)\t1\n",
            "(1, 14174)\n"
          ]
        }
      ],
      "source": [
        "bow4=bow_transformer.transform([message4])\n",
        "print(bow4)\n",
        "print(bow4.shape)"
      ]
    },
    {
      "cell_type": "markdown",
      "metadata": {
        "_uuid": "a540f8a36c310953c2a9e90eb3ec0252a817d969",
        "id": "DXgpJ5OPr_cH"
      },
      "source": [
        "This means that there are seven unique words in message number 4 (after removing common stop words). Two of them appear twice, the rest only once. Let's go ahead and check and confirm which ones appear twice:"
      ]
    },
    {
      "cell_type": "code",
      "execution_count": 35,
      "metadata": {
        "_uuid": "5168fb4ad641f712b5d9e6268bf02ea96fdfac62",
        "colab": {
          "base_uri": "https://localhost:8080/"
        },
        "id": "QP0zg9QIr_cH",
        "outputId": "a39135dd-2356-4b4c-b3d3-e31f6323e9d1"
      },
      "outputs": [
        {
          "name": "stdout",
          "output_type": "stream",
          "text": [
            "Sooyoung\n",
            "mascara\n"
          ]
        }
      ],
      "source": [
        "print(bow_transformer.get_feature_names_out()[4073])\n",
        "print(bow_transformer.get_feature_names_out()[9570])"
      ]
    },
    {
      "cell_type": "markdown",
      "metadata": {
        "_uuid": "1c16e635041e17bd8a2ed10d5c8faedd2e25bbe8",
        "id": "-dqRUgISr_cI"
      },
      "source": [
        "Now we can use **.transform** on our Bag-of-Words (bow) transformed object and transform the entire DataFrame of messages. Let's go ahead and check out how the bag-of-words counts for the entire SMS corpus is a large, sparse matrix:"
      ]
    },
    {
      "cell_type": "code",
      "execution_count": 36,
      "metadata": {
        "_uuid": "ef1f220f90aba473e05f5ccbdeb8bf15fb30af9a",
        "id": "4swbqZI6r_cI"
      },
      "outputs": [],
      "source": [
        "messages_bow = bow_transformer.transform(message['text'].values.astype('U'))"
      ]
    },
    {
      "cell_type": "code",
      "execution_count": 37,
      "metadata": {
        "_uuid": "f9b02cbf2950cdaeaee58bf8305ca8fa2f0fb891",
        "colab": {
          "base_uri": "https://localhost:8080/"
        },
        "id": "6kQ92mN1r_cI",
        "outputId": "da949f80-6aaa-4bbc-9d0a-86b741a00245"
      },
      "outputs": [
        {
          "name": "stdout",
          "output_type": "stream",
          "text": [
            "Shape of Sparse Matrix:  (6982, 14174)\n",
            "Amount of non-zero occurences: 48839\n"
          ]
        }
      ],
      "source": [
        "print('Shape of Sparse Matrix: ',messages_bow.shape)\n",
        "print('Amount of non-zero occurences:',messages_bow.nnz)"
      ]
    },
    {
      "cell_type": "code",
      "execution_count": 38,
      "metadata": {
        "_uuid": "7db14b4e8ef58a515680cc25d7cb1ec5f5448eb9",
        "colab": {
          "base_uri": "https://localhost:8080/"
        },
        "id": "4rlH2y4dr_cJ",
        "outputId": "461482de-f75c-4f2e-9a04-b91d0d650ad5"
      },
      "outputs": [
        {
          "name": "stdout",
          "output_type": "stream",
          "text": [
            "sparsity:0\n"
          ]
        }
      ],
      "source": [
        "sparsity =(100.0 * messages_bow.nnz/(messages_bow.shape[0]*messages_bow.shape[1]))\n",
        "print('sparsity:{}'.format(round(sparsity)))"
      ]
    },
    {
      "cell_type": "code",
      "execution_count": 39,
      "metadata": {
        "_uuid": "3a9ae2839793ada9dd4914750a7fec0f31640d41",
        "colab": {
          "base_uri": "https://localhost:8080/"
        },
        "id": "O_zl4YhAr_cJ",
        "outputId": "d09f42a2-342d-4d3e-9e44-299e653f17f2"
      },
      "outputs": [
        {
          "name": "stdout",
          "output_type": "stream",
          "text": [
            "  (0, 13504)\t0.30017223005394456\n",
            "  (0, 12251)\t0.2564115535275223\n",
            "  (0, 12081)\t0.33751864181027913\n",
            "  (0, 11827)\t0.5289318113790635\n",
            "  (0, 7549)\t0.4125596545381498\n",
            "  (0, 7121)\t0.387872321486873\n",
            "  (0, 2350)\t0.30415696241065315\n",
            "  (0, 2286)\t0.19313256781993693\n"
          ]
        }
      ],
      "source": [
        "from sklearn.feature_extraction.text import TfidfTransformer\n",
        "tfidf_transformer=TfidfTransformer().fit(messages_bow)\n",
        "tfidf4 = tfidf_transformer.transform(bow4)\n",
        "print(tfidf4)"
      ]
    },
    {
      "cell_type": "markdown",
      "metadata": {
        "_uuid": "69690168ab7a736a9fa22e2a5fe7aeeeb20b9e64",
        "id": "lqGam6zSr_cK"
      },
      "source": [
        "We'll go ahead and check what is the IDF (inverse document frequency) of the word `\"u\"` and of word `\"university\"`?"
      ]
    },
    {
      "cell_type": "code",
      "execution_count": 40,
      "metadata": {
        "_uuid": "2f2fff75079767f27aea5785d88ae485c1602a11",
        "colab": {
          "base_uri": "https://localhost:8080/"
        },
        "id": "mrLNsLdVr_cK",
        "outputId": "e268f0d3-3126-48fa-9b9b-2925072c93e3"
      },
      "outputs": [
        {
          "name": "stdout",
          "output_type": "stream",
          "text": [
            "7.286284545384499\n",
            "4.313899635827498\n"
          ]
        }
      ],
      "source": [
        "print(tfidf_transformer.idf_[bow_transformer.vocabulary_['u']])\n",
        "print(tfidf_transformer.idf_[bow_transformer.vocabulary_['restless']])"
      ]
    },
    {
      "cell_type": "code",
      "execution_count": 41,
      "metadata": {
        "_uuid": "bacb5be16f8664e102d3cde0403345cfb4d7ace0",
        "colab": {
          "base_uri": "https://localhost:8080/"
        },
        "id": "72YD61GTr_cK",
        "outputId": "8f6f7c77-3b05-4aad-c239-142318a42a64"
      },
      "outputs": [
        {
          "name": "stdout",
          "output_type": "stream",
          "text": [
            "(6982, 14174)\n"
          ]
        }
      ],
      "source": [
        "messages_tfidf=tfidf_transformer.transform(messages_bow)\n",
        "print(messages_tfidf.shape)"
      ]
    },
    {
      "cell_type": "markdown",
      "metadata": {
        "_uuid": "b830e24a445ee72dd3fb62104f1b41cc0c3b1fb8",
        "id": "C8qp_Jnur_cL"
      },
      "source": [
        "## Training a model"
      ]
    },
    {
      "cell_type": "code",
      "execution_count": 42,
      "metadata": {
        "_uuid": "9ae436fe7af2fca2dc7b0fd25d44567c88aa24b8",
        "id": "2R4JIedQr_cL"
      },
      "outputs": [],
      "source": [
        "from sklearn.naive_bayes import MultinomialNB\n",
        "detect_model = MultinomialNB().fit(messages_tfidf,message['label'])"
      ]
    },
    {
      "cell_type": "code",
      "execution_count": 43,
      "metadata": {
        "_uuid": "826b17d398f15736babd339a818b5ca106b0bf5d",
        "colab": {
          "base_uri": "https://localhost:8080/"
        },
        "id": "_JX_gbpQr_cM",
        "outputId": "2b2bab3f-7eb0-45aa-e98c-b093cfd2cff6"
      },
      "outputs": [
        {
          "name": "stdout",
          "output_type": "stream",
          "text": [
            "predicted: 0\n",
            "expected: 1\n"
          ]
        }
      ],
      "source": [
        "print('predicted:',detect_model.predict(tfidf4)[0])\n",
        "print('expected:',message.label[3])"
      ]
    },
    {
      "cell_type": "markdown",
      "metadata": {
        "_uuid": "5defe5dcce62c4d9fa8484577c03a0e1e8d0f31f",
        "id": "YMeO6EBXr_cM"
      },
      "source": [
        "## Part 6: Model Evaluation\n"
      ]
    },
    {
      "cell_type": "code",
      "execution_count": 44,
      "metadata": {
        "_uuid": "ec8da8377b39df50b6c459840c809c30d69387e8",
        "colab": {
          "base_uri": "https://localhost:8080/"
        },
        "id": "vOMN6xTFr_cM",
        "outputId": "40873f3b-3fef-4b08-c931-7eb913490a17"
      },
      "outputs": [
        {
          "name": "stdout",
          "output_type": "stream",
          "text": [
            "[0 0 0 ... 0 0 0]\n"
          ]
        }
      ],
      "source": [
        "all_predictions = detect_model.predict(messages_tfidf)\n",
        "print(all_predictions)"
      ]
    },
    {
      "cell_type": "markdown",
      "metadata": {
        "_uuid": "132b52f3912f267fee8719b011967e354bb883b1",
        "id": "u_VOpriNr_cN"
      },
      "source": [
        "We can use SciKit Learn's built-in classification report, which returns [precision, recall,](https://en.wikipedia.org/wiki/Precision_and_recall) [f1-score](https://en.wikipedia.org/wiki/F1_score), and a column for support (meaning how many cases supported that classification). Check out the links for more detailed info on each of these metrics and the figure below:"
      ]
    },
    {
      "cell_type": "code",
      "execution_count": 45,
      "metadata": {
        "_uuid": "03ac047e8e9e996e7723e901bf00fd7478ab9755",
        "colab": {
          "base_uri": "https://localhost:8080/"
        },
        "id": "4b63vAtWr_cN",
        "outputId": "7ac670a0-96a5-4431-a398-0a2b0fd1de96"
      },
      "outputs": [
        {
          "name": "stdout",
          "output_type": "stream",
          "text": [
            "              precision    recall  f1-score   support\n",
            "\n",
            "           0       0.92      1.00      0.96      6249\n",
            "           1       1.00      0.24      0.38       733\n",
            "\n",
            "    accuracy                           0.92      6982\n",
            "   macro avg       0.96      0.62      0.67      6982\n",
            "weighted avg       0.93      0.92      0.90      6982\n",
            "\n",
            "[[6249    0]\n",
            " [ 560  173]]\n"
          ]
        }
      ],
      "source": [
        "from sklearn.metrics import classification_report,confusion_matrix\n",
        "print(classification_report(message['label'],all_predictions))\n",
        "print(confusion_matrix(message['label'],all_predictions))"
      ]
    },
    {
      "cell_type": "code",
      "execution_count": 46,
      "metadata": {
        "_uuid": "1220b3cc2df7226c69142385389249f6184431f0",
        "id": "2drDObjHr_cO"
      },
      "outputs": [],
      "source": [
        "from sklearn.model_selection import train_test_split\n",
        "msg_train,msg_test,label_train,label_test = train_test_split(message['text'],message['label'],test_size=0.2)"
      ]
    },
    {
      "cell_type": "code",
      "execution_count": 47,
      "metadata": {
        "_uuid": "4d02357c5e4fc2ed9559137d536bd36b79f9aec5",
        "colab": {
          "base_uri": "https://localhost:8080/"
        },
        "id": "VI0Dv6wVr_cO",
        "outputId": "eef3b794-6eed-4b0b-e1c1-dc3dd9fe3eea"
      },
      "outputs": [
        {
          "name": "stdout",
          "output_type": "stream",
          "text": [
            "5585 1397 5585 1397\n"
          ]
        }
      ],
      "source": [
        "print(len(msg_train),len(msg_test),len(label_train),len(label_test))"
      ]
    },
    {
      "cell_type": "code",
      "execution_count": 48,
      "metadata": {
        "_uuid": "1ada4928b3c84d707cb0d8ba009208beb0fb5875",
        "id": "5h5T8bUNr_cP"
      },
      "outputs": [],
      "source": [
        "from sklearn.pipeline import Pipeline\n",
        "pipeline = Pipeline([\n",
        "   ( 'bow',CountVectorizer(analyzer=text_process)),\n",
        "    ('tfidf',TfidfTransformer()),\n",
        "    ('classifier',MultinomialNB()),\n",
        "])"
      ]
    },
    {
      "cell_type": "code",
      "execution_count": 49,
      "metadata": {
        "_uuid": "b5d432a98dce22cef0d3a50b819a396b14eb136a",
        "colab": {
          "base_uri": "https://localhost:8080/",
          "height": 161
        },
        "id": "TcdQUBpqr_cP",
        "outputId": "3bab6aec-ce2a-4aa1-f7fa-dcb95dc4f04d"
      },
      "outputs": [
        {
          "data": {
            "text/html": [
              "<style>#sk-container-id-1 {\n",
              "  /* Definition of color scheme common for light and dark mode */\n",
              "  --sklearn-color-text: black;\n",
              "  --sklearn-color-line: gray;\n",
              "  /* Definition of color scheme for unfitted estimators */\n",
              "  --sklearn-color-unfitted-level-0: #fff5e6;\n",
              "  --sklearn-color-unfitted-level-1: #f6e4d2;\n",
              "  --sklearn-color-unfitted-level-2: #ffe0b3;\n",
              "  --sklearn-color-unfitted-level-3: chocolate;\n",
              "  /* Definition of color scheme for fitted estimators */\n",
              "  --sklearn-color-fitted-level-0: #f0f8ff;\n",
              "  --sklearn-color-fitted-level-1: #d4ebff;\n",
              "  --sklearn-color-fitted-level-2: #b3dbfd;\n",
              "  --sklearn-color-fitted-level-3: cornflowerblue;\n",
              "\n",
              "  /* Specific color for light theme */\n",
              "  --sklearn-color-text-on-default-background: var(--sg-text-color, var(--theme-code-foreground, var(--jp-content-font-color1, black)));\n",
              "  --sklearn-color-background: var(--sg-background-color, var(--theme-background, var(--jp-layout-color0, white)));\n",
              "  --sklearn-color-border-box: var(--sg-text-color, var(--theme-code-foreground, var(--jp-content-font-color1, black)));\n",
              "  --sklearn-color-icon: #696969;\n",
              "\n",
              "  @media (prefers-color-scheme: dark) {\n",
              "    /* Redefinition of color scheme for dark theme */\n",
              "    --sklearn-color-text-on-default-background: var(--sg-text-color, var(--theme-code-foreground, var(--jp-content-font-color1, white)));\n",
              "    --sklearn-color-background: var(--sg-background-color, var(--theme-background, var(--jp-layout-color0, #111)));\n",
              "    --sklearn-color-border-box: var(--sg-text-color, var(--theme-code-foreground, var(--jp-content-font-color1, white)));\n",
              "    --sklearn-color-icon: #878787;\n",
              "  }\n",
              "}\n",
              "\n",
              "#sk-container-id-1 {\n",
              "  color: var(--sklearn-color-text);\n",
              "}\n",
              "\n",
              "#sk-container-id-1 pre {\n",
              "  padding: 0;\n",
              "}\n",
              "\n",
              "#sk-container-id-1 input.sk-hidden--visually {\n",
              "  border: 0;\n",
              "  clip: rect(1px 1px 1px 1px);\n",
              "  clip: rect(1px, 1px, 1px, 1px);\n",
              "  height: 1px;\n",
              "  margin: -1px;\n",
              "  overflow: hidden;\n",
              "  padding: 0;\n",
              "  position: absolute;\n",
              "  width: 1px;\n",
              "}\n",
              "\n",
              "#sk-container-id-1 div.sk-dashed-wrapped {\n",
              "  border: 1px dashed var(--sklearn-color-line);\n",
              "  margin: 0 0.4em 0.5em 0.4em;\n",
              "  box-sizing: border-box;\n",
              "  padding-bottom: 0.4em;\n",
              "  background-color: var(--sklearn-color-background);\n",
              "}\n",
              "\n",
              "#sk-container-id-1 div.sk-container {\n",
              "  /* jupyter's `normalize.less` sets `[hidden] { display: none; }`\n",
              "     but bootstrap.min.css set `[hidden] { display: none !important; }`\n",
              "     so we also need the `!important` here to be able to override the\n",
              "     default hidden behavior on the sphinx rendered scikit-learn.org.\n",
              "     See: https://github.com/scikit-learn/scikit-learn/issues/21755 */\n",
              "  display: inline-block !important;\n",
              "  position: relative;\n",
              "}\n",
              "\n",
              "#sk-container-id-1 div.sk-text-repr-fallback {\n",
              "  display: none;\n",
              "}\n",
              "\n",
              "div.sk-parallel-item,\n",
              "div.sk-serial,\n",
              "div.sk-item {\n",
              "  /* draw centered vertical line to link estimators */\n",
              "  background-image: linear-gradient(var(--sklearn-color-text-on-default-background), var(--sklearn-color-text-on-default-background));\n",
              "  background-size: 2px 100%;\n",
              "  background-repeat: no-repeat;\n",
              "  background-position: center center;\n",
              "}\n",
              "\n",
              "/* Parallel-specific style estimator block */\n",
              "\n",
              "#sk-container-id-1 div.sk-parallel-item::after {\n",
              "  content: \"\";\n",
              "  width: 100%;\n",
              "  border-bottom: 2px solid var(--sklearn-color-text-on-default-background);\n",
              "  flex-grow: 1;\n",
              "}\n",
              "\n",
              "#sk-container-id-1 div.sk-parallel {\n",
              "  display: flex;\n",
              "  align-items: stretch;\n",
              "  justify-content: center;\n",
              "  background-color: var(--sklearn-color-background);\n",
              "  position: relative;\n",
              "}\n",
              "\n",
              "#sk-container-id-1 div.sk-parallel-item {\n",
              "  display: flex;\n",
              "  flex-direction: column;\n",
              "}\n",
              "\n",
              "#sk-container-id-1 div.sk-parallel-item:first-child::after {\n",
              "  align-self: flex-end;\n",
              "  width: 50%;\n",
              "}\n",
              "\n",
              "#sk-container-id-1 div.sk-parallel-item:last-child::after {\n",
              "  align-self: flex-start;\n",
              "  width: 50%;\n",
              "}\n",
              "\n",
              "#sk-container-id-1 div.sk-parallel-item:only-child::after {\n",
              "  width: 0;\n",
              "}\n",
              "\n",
              "/* Serial-specific style estimator block */\n",
              "\n",
              "#sk-container-id-1 div.sk-serial {\n",
              "  display: flex;\n",
              "  flex-direction: column;\n",
              "  align-items: center;\n",
              "  background-color: var(--sklearn-color-background);\n",
              "  padding-right: 1em;\n",
              "  padding-left: 1em;\n",
              "}\n",
              "\n",
              "\n",
              "/* Toggleable style: style used for estimator/Pipeline/ColumnTransformer box that is\n",
              "clickable and can be expanded/collapsed.\n",
              "- Pipeline and ColumnTransformer use this feature and define the default style\n",
              "- Estimators will overwrite some part of the style using the `sk-estimator` class\n",
              "*/\n",
              "\n",
              "/* Pipeline and ColumnTransformer style (default) */\n",
              "\n",
              "#sk-container-id-1 div.sk-toggleable {\n",
              "  /* Default theme specific background. It is overwritten whether we have a\n",
              "  specific estimator or a Pipeline/ColumnTransformer */\n",
              "  background-color: var(--sklearn-color-background);\n",
              "}\n",
              "\n",
              "/* Toggleable label */\n",
              "#sk-container-id-1 label.sk-toggleable__label {\n",
              "  cursor: pointer;\n",
              "  display: block;\n",
              "  width: 100%;\n",
              "  margin-bottom: 0;\n",
              "  padding: 0.5em;\n",
              "  box-sizing: border-box;\n",
              "  text-align: center;\n",
              "}\n",
              "\n",
              "#sk-container-id-1 label.sk-toggleable__label-arrow:before {\n",
              "  /* Arrow on the left of the label */\n",
              "  content: \"▸\";\n",
              "  float: left;\n",
              "  margin-right: 0.25em;\n",
              "  color: var(--sklearn-color-icon);\n",
              "}\n",
              "\n",
              "#sk-container-id-1 label.sk-toggleable__label-arrow:hover:before {\n",
              "  color: var(--sklearn-color-text);\n",
              "}\n",
              "\n",
              "/* Toggleable content - dropdown */\n",
              "\n",
              "#sk-container-id-1 div.sk-toggleable__content {\n",
              "  max-height: 0;\n",
              "  max-width: 0;\n",
              "  overflow: hidden;\n",
              "  text-align: left;\n",
              "  /* unfitted */\n",
              "  background-color: var(--sklearn-color-unfitted-level-0);\n",
              "}\n",
              "\n",
              "#sk-container-id-1 div.sk-toggleable__content.fitted {\n",
              "  /* fitted */\n",
              "  background-color: var(--sklearn-color-fitted-level-0);\n",
              "}\n",
              "\n",
              "#sk-container-id-1 div.sk-toggleable__content pre {\n",
              "  margin: 0.2em;\n",
              "  border-radius: 0.25em;\n",
              "  color: var(--sklearn-color-text);\n",
              "  /* unfitted */\n",
              "  background-color: var(--sklearn-color-unfitted-level-0);\n",
              "}\n",
              "\n",
              "#sk-container-id-1 div.sk-toggleable__content.fitted pre {\n",
              "  /* unfitted */\n",
              "  background-color: var(--sklearn-color-fitted-level-0);\n",
              "}\n",
              "\n",
              "#sk-container-id-1 input.sk-toggleable__control:checked~div.sk-toggleable__content {\n",
              "  /* Expand drop-down */\n",
              "  max-height: 200px;\n",
              "  max-width: 100%;\n",
              "  overflow: auto;\n",
              "}\n",
              "\n",
              "#sk-container-id-1 input.sk-toggleable__control:checked~label.sk-toggleable__label-arrow:before {\n",
              "  content: \"▾\";\n",
              "}\n",
              "\n",
              "/* Pipeline/ColumnTransformer-specific style */\n",
              "\n",
              "#sk-container-id-1 div.sk-label input.sk-toggleable__control:checked~label.sk-toggleable__label {\n",
              "  color: var(--sklearn-color-text);\n",
              "  background-color: var(--sklearn-color-unfitted-level-2);\n",
              "}\n",
              "\n",
              "#sk-container-id-1 div.sk-label.fitted input.sk-toggleable__control:checked~label.sk-toggleable__label {\n",
              "  background-color: var(--sklearn-color-fitted-level-2);\n",
              "}\n",
              "\n",
              "/* Estimator-specific style */\n",
              "\n",
              "/* Colorize estimator box */\n",
              "#sk-container-id-1 div.sk-estimator input.sk-toggleable__control:checked~label.sk-toggleable__label {\n",
              "  /* unfitted */\n",
              "  background-color: var(--sklearn-color-unfitted-level-2);\n",
              "}\n",
              "\n",
              "#sk-container-id-1 div.sk-estimator.fitted input.sk-toggleable__control:checked~label.sk-toggleable__label {\n",
              "  /* fitted */\n",
              "  background-color: var(--sklearn-color-fitted-level-2);\n",
              "}\n",
              "\n",
              "#sk-container-id-1 div.sk-label label.sk-toggleable__label,\n",
              "#sk-container-id-1 div.sk-label label {\n",
              "  /* The background is the default theme color */\n",
              "  color: var(--sklearn-color-text-on-default-background);\n",
              "}\n",
              "\n",
              "/* On hover, darken the color of the background */\n",
              "#sk-container-id-1 div.sk-label:hover label.sk-toggleable__label {\n",
              "  color: var(--sklearn-color-text);\n",
              "  background-color: var(--sklearn-color-unfitted-level-2);\n",
              "}\n",
              "\n",
              "/* Label box, darken color on hover, fitted */\n",
              "#sk-container-id-1 div.sk-label.fitted:hover label.sk-toggleable__label.fitted {\n",
              "  color: var(--sklearn-color-text);\n",
              "  background-color: var(--sklearn-color-fitted-level-2);\n",
              "}\n",
              "\n",
              "/* Estimator label */\n",
              "\n",
              "#sk-container-id-1 div.sk-label label {\n",
              "  font-family: monospace;\n",
              "  font-weight: bold;\n",
              "  display: inline-block;\n",
              "  line-height: 1.2em;\n",
              "}\n",
              "\n",
              "#sk-container-id-1 div.sk-label-container {\n",
              "  text-align: center;\n",
              "}\n",
              "\n",
              "/* Estimator-specific */\n",
              "#sk-container-id-1 div.sk-estimator {\n",
              "  font-family: monospace;\n",
              "  border: 1px dotted var(--sklearn-color-border-box);\n",
              "  border-radius: 0.25em;\n",
              "  box-sizing: border-box;\n",
              "  margin-bottom: 0.5em;\n",
              "  /* unfitted */\n",
              "  background-color: var(--sklearn-color-unfitted-level-0);\n",
              "}\n",
              "\n",
              "#sk-container-id-1 div.sk-estimator.fitted {\n",
              "  /* fitted */\n",
              "  background-color: var(--sklearn-color-fitted-level-0);\n",
              "}\n",
              "\n",
              "/* on hover */\n",
              "#sk-container-id-1 div.sk-estimator:hover {\n",
              "  /* unfitted */\n",
              "  background-color: var(--sklearn-color-unfitted-level-2);\n",
              "}\n",
              "\n",
              "#sk-container-id-1 div.sk-estimator.fitted:hover {\n",
              "  /* fitted */\n",
              "  background-color: var(--sklearn-color-fitted-level-2);\n",
              "}\n",
              "\n",
              "/* Specification for estimator info (e.g. \"i\" and \"?\") */\n",
              "\n",
              "/* Common style for \"i\" and \"?\" */\n",
              "\n",
              ".sk-estimator-doc-link,\n",
              "a:link.sk-estimator-doc-link,\n",
              "a:visited.sk-estimator-doc-link {\n",
              "  float: right;\n",
              "  font-size: smaller;\n",
              "  line-height: 1em;\n",
              "  font-family: monospace;\n",
              "  background-color: var(--sklearn-color-background);\n",
              "  border-radius: 1em;\n",
              "  height: 1em;\n",
              "  width: 1em;\n",
              "  text-decoration: none !important;\n",
              "  margin-left: 1ex;\n",
              "  /* unfitted */\n",
              "  border: var(--sklearn-color-unfitted-level-1) 1pt solid;\n",
              "  color: var(--sklearn-color-unfitted-level-1);\n",
              "}\n",
              "\n",
              ".sk-estimator-doc-link.fitted,\n",
              "a:link.sk-estimator-doc-link.fitted,\n",
              "a:visited.sk-estimator-doc-link.fitted {\n",
              "  /* fitted */\n",
              "  border: var(--sklearn-color-fitted-level-1) 1pt solid;\n",
              "  color: var(--sklearn-color-fitted-level-1);\n",
              "}\n",
              "\n",
              "/* On hover */\n",
              "div.sk-estimator:hover .sk-estimator-doc-link:hover,\n",
              ".sk-estimator-doc-link:hover,\n",
              "div.sk-label-container:hover .sk-estimator-doc-link:hover,\n",
              ".sk-estimator-doc-link:hover {\n",
              "  /* unfitted */\n",
              "  background-color: var(--sklearn-color-unfitted-level-3);\n",
              "  color: var(--sklearn-color-background);\n",
              "  text-decoration: none;\n",
              "}\n",
              "\n",
              "div.sk-estimator.fitted:hover .sk-estimator-doc-link.fitted:hover,\n",
              ".sk-estimator-doc-link.fitted:hover,\n",
              "div.sk-label-container:hover .sk-estimator-doc-link.fitted:hover,\n",
              ".sk-estimator-doc-link.fitted:hover {\n",
              "  /* fitted */\n",
              "  background-color: var(--sklearn-color-fitted-level-3);\n",
              "  color: var(--sklearn-color-background);\n",
              "  text-decoration: none;\n",
              "}\n",
              "\n",
              "/* Span, style for the box shown on hovering the info icon */\n",
              ".sk-estimator-doc-link span {\n",
              "  display: none;\n",
              "  z-index: 9999;\n",
              "  position: relative;\n",
              "  font-weight: normal;\n",
              "  right: .2ex;\n",
              "  padding: .5ex;\n",
              "  margin: .5ex;\n",
              "  width: min-content;\n",
              "  min-width: 20ex;\n",
              "  max-width: 50ex;\n",
              "  color: var(--sklearn-color-text);\n",
              "  box-shadow: 2pt 2pt 4pt #999;\n",
              "  /* unfitted */\n",
              "  background: var(--sklearn-color-unfitted-level-0);\n",
              "  border: .5pt solid var(--sklearn-color-unfitted-level-3);\n",
              "}\n",
              "\n",
              ".sk-estimator-doc-link.fitted span {\n",
              "  /* fitted */\n",
              "  background: var(--sklearn-color-fitted-level-0);\n",
              "  border: var(--sklearn-color-fitted-level-3);\n",
              "}\n",
              "\n",
              ".sk-estimator-doc-link:hover span {\n",
              "  display: block;\n",
              "}\n",
              "\n",
              "/* \"?\"-specific style due to the `<a>` HTML tag */\n",
              "\n",
              "#sk-container-id-1 a.estimator_doc_link {\n",
              "  float: right;\n",
              "  font-size: 1rem;\n",
              "  line-height: 1em;\n",
              "  font-family: monospace;\n",
              "  background-color: var(--sklearn-color-background);\n",
              "  border-radius: 1rem;\n",
              "  height: 1rem;\n",
              "  width: 1rem;\n",
              "  text-decoration: none;\n",
              "  /* unfitted */\n",
              "  color: var(--sklearn-color-unfitted-level-1);\n",
              "  border: var(--sklearn-color-unfitted-level-1) 1pt solid;\n",
              "}\n",
              "\n",
              "#sk-container-id-1 a.estimator_doc_link.fitted {\n",
              "  /* fitted */\n",
              "  border: var(--sklearn-color-fitted-level-1) 1pt solid;\n",
              "  color: var(--sklearn-color-fitted-level-1);\n",
              "}\n",
              "\n",
              "/* On hover */\n",
              "#sk-container-id-1 a.estimator_doc_link:hover {\n",
              "  /* unfitted */\n",
              "  background-color: var(--sklearn-color-unfitted-level-3);\n",
              "  color: var(--sklearn-color-background);\n",
              "  text-decoration: none;\n",
              "}\n",
              "\n",
              "#sk-container-id-1 a.estimator_doc_link.fitted:hover {\n",
              "  /* fitted */\n",
              "  background-color: var(--sklearn-color-fitted-level-3);\n",
              "}\n",
              "</style><div id=\"sk-container-id-1\" class=\"sk-top-container\"><div class=\"sk-text-repr-fallback\"><pre>Pipeline(steps=[(&#x27;bow&#x27;,\n",
              "                 CountVectorizer(analyzer=&lt;function text_process at 0x000002B0A73D9580&gt;)),\n",
              "                (&#x27;tfidf&#x27;, TfidfTransformer()),\n",
              "                (&#x27;classifier&#x27;, MultinomialNB())])</pre><b>In a Jupyter environment, please rerun this cell to show the HTML representation or trust the notebook. <br />On GitHub, the HTML representation is unable to render, please try loading this page with nbviewer.org.</b></div><div class=\"sk-container\" hidden><div class=\"sk-item sk-dashed-wrapped\"><div class=\"sk-label-container\"><div class=\"sk-label fitted sk-toggleable\"><input class=\"sk-toggleable__control sk-hidden--visually\" id=\"sk-estimator-id-1\" type=\"checkbox\" ><label for=\"sk-estimator-id-1\" class=\"sk-toggleable__label fitted sk-toggleable__label-arrow fitted\">&nbsp;&nbsp;Pipeline<a class=\"sk-estimator-doc-link fitted\" rel=\"noreferrer\" target=\"_blank\" href=\"https://scikit-learn.org/1.4/modules/generated/sklearn.pipeline.Pipeline.html\">?<span>Documentation for Pipeline</span></a><span class=\"sk-estimator-doc-link fitted\">i<span>Fitted</span></span></label><div class=\"sk-toggleable__content fitted\"><pre>Pipeline(steps=[(&#x27;bow&#x27;,\n",
              "                 CountVectorizer(analyzer=&lt;function text_process at 0x000002B0A73D9580&gt;)),\n",
              "                (&#x27;tfidf&#x27;, TfidfTransformer()),\n",
              "                (&#x27;classifier&#x27;, MultinomialNB())])</pre></div> </div></div><div class=\"sk-serial\"><div class=\"sk-item\"><div class=\"sk-estimator fitted sk-toggleable\"><input class=\"sk-toggleable__control sk-hidden--visually\" id=\"sk-estimator-id-2\" type=\"checkbox\" ><label for=\"sk-estimator-id-2\" class=\"sk-toggleable__label fitted sk-toggleable__label-arrow fitted\">&nbsp;CountVectorizer<a class=\"sk-estimator-doc-link fitted\" rel=\"noreferrer\" target=\"_blank\" href=\"https://scikit-learn.org/1.4/modules/generated/sklearn.feature_extraction.text.CountVectorizer.html\">?<span>Documentation for CountVectorizer</span></a></label><div class=\"sk-toggleable__content fitted\"><pre>CountVectorizer(analyzer=&lt;function text_process at 0x000002B0A73D9580&gt;)</pre></div> </div></div><div class=\"sk-item\"><div class=\"sk-estimator fitted sk-toggleable\"><input class=\"sk-toggleable__control sk-hidden--visually\" id=\"sk-estimator-id-3\" type=\"checkbox\" ><label for=\"sk-estimator-id-3\" class=\"sk-toggleable__label fitted sk-toggleable__label-arrow fitted\">&nbsp;TfidfTransformer<a class=\"sk-estimator-doc-link fitted\" rel=\"noreferrer\" target=\"_blank\" href=\"https://scikit-learn.org/1.4/modules/generated/sklearn.feature_extraction.text.TfidfTransformer.html\">?<span>Documentation for TfidfTransformer</span></a></label><div class=\"sk-toggleable__content fitted\"><pre>TfidfTransformer()</pre></div> </div></div><div class=\"sk-item\"><div class=\"sk-estimator fitted sk-toggleable\"><input class=\"sk-toggleable__control sk-hidden--visually\" id=\"sk-estimator-id-4\" type=\"checkbox\" ><label for=\"sk-estimator-id-4\" class=\"sk-toggleable__label fitted sk-toggleable__label-arrow fitted\">&nbsp;MultinomialNB<a class=\"sk-estimator-doc-link fitted\" rel=\"noreferrer\" target=\"_blank\" href=\"https://scikit-learn.org/1.4/modules/generated/sklearn.naive_bayes.MultinomialNB.html\">?<span>Documentation for MultinomialNB</span></a></label><div class=\"sk-toggleable__content fitted\"><pre>MultinomialNB()</pre></div> </div></div></div></div></div></div>"
            ],
            "text/plain": [
              "Pipeline(steps=[('bow',\n",
              "                 CountVectorizer(analyzer=<function text_process at 0x000002B0A73D9580>)),\n",
              "                ('tfidf', TfidfTransformer()),\n",
              "                ('classifier', MultinomialNB())])"
            ]
          },
          "execution_count": 49,
          "metadata": {},
          "output_type": "execute_result"
        }
      ],
      "source": [
        "pipeline.fit(msg_train,label_train)"
      ]
    },
    {
      "cell_type": "code",
      "execution_count": 50,
      "metadata": {
        "_uuid": "4fa22ff9485a4e4773bd5f746cf34673b7828947",
        "id": "vtG0kfPqr_cP"
      },
      "outputs": [],
      "source": [
        "predictions = pipeline.predict(msg_test)"
      ]
    },
    {
      "cell_type": "code",
      "execution_count": 51,
      "metadata": {
        "_uuid": "5ac4e7070129d1d233e5d8328c03e484affb332a",
        "colab": {
          "base_uri": "https://localhost:8080/"
        },
        "id": "ceRBerVPr_cQ",
        "outputId": "fdec8c02-a7cc-4e6e-9dfc-da2975dc6b7c"
      },
      "outputs": [
        {
          "name": "stdout",
          "output_type": "stream",
          "text": [
            "              precision    recall  f1-score   support\n",
            "\n",
            "           0       1.00      0.91      0.95      1375\n",
            "           1       0.15      1.00      0.27        22\n",
            "\n",
            "    accuracy                           0.91      1397\n",
            "   macro avg       0.58      0.96      0.61      1397\n",
            "weighted avg       0.99      0.91      0.94      1397\n",
            "\n"
          ]
        }
      ],
      "source": [
        "print(classification_report(predictions,label_test))"
      ]
    },
    {
      "cell_type": "markdown",
      "metadata": {
        "id": "gdw-Sqz9Js5I"
      },
      "source": [
        "GENETIC ALGORITHM"
      ]
    },
    {
      "cell_type": "code",
      "execution_count": 52,
      "metadata": {
        "id": "dJlOzKjuJoyQ"
      },
      "outputs": [],
      "source": [
        "import random\n",
        "from nltk.sentiment import SentimentIntensityAnalyzer"
      ]
    },
    {
      "cell_type": "code",
      "execution_count": 53,
      "metadata": {
        "colab": {
          "base_uri": "https://localhost:8080/"
        },
        "id": "DwYFJv4FJpWY",
        "outputId": "ea692370-879e-46ca-bd03-09c5f56b5683"
      },
      "outputs": [
        {
          "name": "stderr",
          "output_type": "stream",
          "text": [
            "[nltk_data] Downloading package vader_lexicon to\n",
            "[nltk_data]     C:\\Users\\hp\\AppData\\Roaming\\nltk_data...\n"
          ]
        },
        {
          "data": {
            "text/plain": [
              "True"
            ]
          },
          "execution_count": 53,
          "metadata": {},
          "output_type": "execute_result"
        }
      ],
      "source": [
        "import nltk\n",
        "nltk.download('vader_lexicon')"
      ]
    },
    {
      "cell_type": "code",
      "execution_count": 58,
      "metadata": {
        "id": "w4fGu8rhJmlS"
      },
      "outputs": [],
      "source": [
        "# Step 1: Prepare the initial population\n",
        "def create_population(size, length):\n",
        "    population = []\n",
        "    for _ in range(size):\n",
        "        individual = [random.choice([0, 1]) for _ in range(length)]\n",
        "        population.append(individual)\n",
        "    return population\n",
        "\n",
        "# Step 2: Evaluate the fitness of each individual\n",
        "def evaluate_fitness(population, data):\n",
        "    fitness_scores = []\n",
        "    for individual in population:\n",
        "        sentiment = calculate_sentiment(data, individual)\n",
        "        fitness_scores.append(sentiment)\n",
        "    return fitness_scores\n",
        "\n",
        "# Step 3: Select parents for reproduction\n",
        "def selection(population, fitness_scores):\n",
        "    total_fitness = sum(fitness_scores)\n",
        "    # Check if total fitness is zero, return random parents if so\n",
        "    if total_fitness == 0:\n",
        "        return random.choices(population, k=len(population))\n",
        "    probabilities = [fitness / total_fitness for fitness in fitness_scores]\n",
        "    selected_parents = random.choices(population, probabilities, k=len(population))\n",
        "    return selected_parents\n",
        "\n",
        "# Step 4: Perform crossover to create offspring\n",
        "def crossover(parent1, parent2):\n",
        "    point = random.randint(1, len(parent1) - 1)\n",
        "    offspring1 = parent1[:point] + parent2[point:]\n",
        "    offspring2 = parent2[:point] + parent1[point:]\n",
        "    return offspring1, offspring2\n",
        "\n",
        "# Step 5: Perform mutation on the offspring\n",
        "def mutation(individual, mutation_rate):\n",
        "    mutated_individual = []\n",
        "    for gene in individual:\n",
        "        if random.random() < mutation_rate:\n",
        "            gene = 1 - gene  # Flip the bit\n",
        "        mutated_individual.append(gene)\n",
        "    return mutated_individual\n",
        "\n",
        "# Step 6: Run the genetic algorithm\n",
        "def genetic_algorithm(data, population_size, num_generations, mutation_rate):\n",
        "    population = create_population(population_size, len(data))\n",
        "    for generation in range(num_generations):\n",
        "        fitness_scores = evaluate_fitness(population, data)\n",
        "        parents = selection(population, fitness_scores)\n",
        "        new_population = []\n",
        "        while len(new_population) < population_size:\n",
        "            parent1, parent2 = random.sample(parents, 2)\n",
        "            offspring1, offspring2 = crossover(parent1, parent2)\n",
        "            offspring1 = mutation(offspring1, mutation_rate)\n",
        "            offspring2 = mutation(offspring2, mutation_rate)\n",
        "            new_population.extend([offspring1, offspring2])\n",
        "        population = new_population\n",
        "    best_individual = max(population, key=lambda ind: calculate_sentiment(data, ind))\n",
        "    return best_individual\n",
        "\n",
        "# Step 7: Calculate sentiment based on individual\n",
        "def calculate_sentiment(data, individual):\n",
        "    sid = SentimentIntensityAnalyzer()\n",
        "    sentiment_score = sid.polarity_scores(data)[\"compound\"]\n",
        "    return sentiment_score"
      ]
    },
    {
      "cell_type": "code",
      "execution_count": 59,
      "metadata": {
        "id": "-ys1jpiiMgli"
      },
      "outputs": [],
      "source": [
        "data = message['text'].head(10)"
      ]
    },
    {
      "cell_type": "code",
      "execution_count": 61,
      "metadata": {
        "colab": {
          "base_uri": "https://localhost:8080/"
        },
        "id": "n5vlI9CIIx26",
        "outputId": "4ec00c56-f476-44c4-84fe-845e67d1a5db"
      },
      "outputs": [
        {
          "name": "stdout",
          "output_type": "stream",
          "text": [
            "Best sentiment: [0.0, -0.7269, -0.7351, -0.4215, -0.4939, -0.2144, 0.25, -0.1406, -0.1063, -0.6142]\n"
          ]
        }
      ],
      "source": [
        "population_size = 50\n",
        "num_generations = 100\n",
        "mutation_rate = 0.01\n",
        "mess = []\n",
        "for i in range(len(data)):\n",
        "  best_individual = genetic_algorithm(data[i], population_size, num_generations, mutation_rate)\n",
        "  best_sentiment = calculate_sentiment(data[i], best_individual)\n",
        "  mess.append(best_sentiment)\n",
        "print(\"Best sentiment:\", mess)"
      ]
    },
    {
      "cell_type": "code",
      "execution_count": 62,
      "metadata": {
        "id": "Zy_m8nGQP_wa"
      },
      "outputs": [],
      "source": [
        "OptimizeEmotional = np.array(mess)"
      ]
    },
    {
      "cell_type": "code",
      "execution_count": 63,
      "metadata": {
        "id": "dHw4LcSnSUa-"
      },
      "outputs": [],
      "source": [
        "message = message.head(10)"
      ]
    },
    {
      "cell_type": "code",
      "execution_count": 64,
      "metadata": {
        "id": "n5XM0lM8SJIO"
      },
      "outputs": [],
      "source": [
        "message.insert(3, \"OptimizeEmotional\", OptimizeEmotional)"
      ]
    },
    {
      "cell_type": "code",
      "execution_count": 65,
      "metadata": {
        "colab": {
          "base_uri": "https://localhost:8080/",
          "height": 363
        },
        "id": "wiCbf0XrSEZO",
        "outputId": "10d5579c-285a-4c03-f865-81f112b99262"
      },
      "outputs": [
        {
          "data": {
            "text/html": [
              "<div>\n",
              "<style scoped>\n",
              "    .dataframe tbody tr th:only-of-type {\n",
              "        vertical-align: middle;\n",
              "    }\n",
              "\n",
              "    .dataframe tbody tr th {\n",
              "        vertical-align: top;\n",
              "    }\n",
              "\n",
              "    .dataframe thead th {\n",
              "        text-align: right;\n",
              "    }\n",
              "</style>\n",
              "<table border=\"1\" class=\"dataframe\">\n",
              "  <thead>\n",
              "    <tr style=\"text-align: right;\">\n",
              "      <th></th>\n",
              "      <th>text</th>\n",
              "      <th>label</th>\n",
              "      <th>length</th>\n",
              "      <th>OptimizeEmotional</th>\n",
              "    </tr>\n",
              "  </thead>\n",
              "  <tbody>\n",
              "    <tr>\n",
              "      <th>0</th>\n",
              "      <td>oh my gosh</td>\n",
              "      <td>1</td>\n",
              "      <td>10</td>\n",
              "      <td>0.0000</td>\n",
              "    </tr>\n",
              "    <tr>\n",
              "      <th>1</th>\n",
              "      <td>trouble sleeping, confused mind, restless hear...</td>\n",
              "      <td>1</td>\n",
              "      <td>64</td>\n",
              "      <td>-0.7269</td>\n",
              "    </tr>\n",
              "    <tr>\n",
              "      <th>2</th>\n",
              "      <td>All wrong, back off dear, forward doubt. Stay ...</td>\n",
              "      <td>1</td>\n",
              "      <td>78</td>\n",
              "      <td>-0.7351</td>\n",
              "    </tr>\n",
              "    <tr>\n",
              "      <th>3</th>\n",
              "      <td>I've shifted my focus to something else but I'...</td>\n",
              "      <td>1</td>\n",
              "      <td>61</td>\n",
              "      <td>-0.4215</td>\n",
              "    </tr>\n",
              "    <tr>\n",
              "      <th>4</th>\n",
              "      <td>I'm restless and restless, it's been a month n...</td>\n",
              "      <td>1</td>\n",
              "      <td>72</td>\n",
              "      <td>-0.4939</td>\n",
              "    </tr>\n",
              "    <tr>\n",
              "      <th>5</th>\n",
              "      <td>every break, you must be nervous, like somethi...</td>\n",
              "      <td>1</td>\n",
              "      <td>76</td>\n",
              "      <td>-0.2144</td>\n",
              "    </tr>\n",
              "    <tr>\n",
              "      <th>6</th>\n",
              "      <td>I feel scared, anxious, what can I do? And may...</td>\n",
              "      <td>1</td>\n",
              "      <td>78</td>\n",
              "      <td>0.2500</td>\n",
              "    </tr>\n",
              "    <tr>\n",
              "      <th>7</th>\n",
              "      <td>Have you ever felt nervous but didn't know why?</td>\n",
              "      <td>1</td>\n",
              "      <td>47</td>\n",
              "      <td>-0.1406</td>\n",
              "    </tr>\n",
              "    <tr>\n",
              "      <th>8</th>\n",
              "      <td>I haven't slept well for 2 days, it's like I'm...</td>\n",
              "      <td>1</td>\n",
              "      <td>70</td>\n",
              "      <td>-0.1063</td>\n",
              "    </tr>\n",
              "    <tr>\n",
              "      <th>9</th>\n",
              "      <td>I'm really worried, I want to cry.</td>\n",
              "      <td>1</td>\n",
              "      <td>34</td>\n",
              "      <td>-0.6142</td>\n",
              "    </tr>\n",
              "  </tbody>\n",
              "</table>\n",
              "</div>"
            ],
            "text/plain": [
              "                                                text  label  length  \\\n",
              "0                                         oh my gosh      1      10   \n",
              "1  trouble sleeping, confused mind, restless hear...      1      64   \n",
              "2  All wrong, back off dear, forward doubt. Stay ...      1      78   \n",
              "3  I've shifted my focus to something else but I'...      1      61   \n",
              "4  I'm restless and restless, it's been a month n...      1      72   \n",
              "5  every break, you must be nervous, like somethi...      1      76   \n",
              "6  I feel scared, anxious, what can I do? And may...      1      78   \n",
              "7    Have you ever felt nervous but didn't know why?      1      47   \n",
              "8  I haven't slept well for 2 days, it's like I'm...      1      70   \n",
              "9                 I'm really worried, I want to cry.      1      34   \n",
              "\n",
              "   OptimizeEmotional  \n",
              "0             0.0000  \n",
              "1            -0.7269  \n",
              "2            -0.7351  \n",
              "3            -0.4215  \n",
              "4            -0.4939  \n",
              "5            -0.2144  \n",
              "6             0.2500  \n",
              "7            -0.1406  \n",
              "8            -0.1063  \n",
              "9            -0.6142  "
            ]
          },
          "execution_count": 65,
          "metadata": {},
          "output_type": "execute_result"
        }
      ],
      "source": [
        "message"
      ]
    },
    {
      "cell_type": "markdown",
      "metadata": {
        "id": "iBhm31VnTUMb"
      },
      "source": [
        "USER INPUT"
      ]
    },
    {
      "cell_type": "code",
      "execution_count": 66,
      "metadata": {
        "id": "y2CBhITzTHVl"
      },
      "outputs": [],
      "source": [
        "input = \"i will love you.\""
      ]
    },
    {
      "cell_type": "code",
      "execution_count": 67,
      "metadata": {
        "colab": {
          "base_uri": "https://localhost:8080/"
        },
        "id": "nWHYVJd9PZ67",
        "outputId": "d191a2aa-db8f-4a39-f1aa-33b68e59ad51"
      },
      "outputs": [
        {
          "name": "stdout",
          "output_type": "stream",
          "text": [
            "Best sentiment: 0.6369\n"
          ]
        }
      ],
      "source": [
        "data = input\n",
        "population_size = 50\n",
        "num_generations = 100\n",
        "mutation_rate = 0.01\n",
        "best_individual = genetic_algorithm(data, population_size, num_generations, mutation_rate)\n",
        "best_sentiment = calculate_sentiment(data, best_individual)\n",
        "print(\"Best sentiment:\", best_sentiment)"
      ]
    },
    {
      "cell_type": "code",
      "execution_count": 68,
      "metadata": {
        "colab": {
          "base_uri": "https://localhost:8080/"
        },
        "id": "7tZ3rj7j3Q_W",
        "outputId": "88475a94-f4d5-41ff-f4f6-310585ef5ae5"
      },
      "outputs": [
        {
          "name": "stdout",
          "output_type": "stream",
          "text": [
            "Collecting vaderSentiment\n",
            "  Downloading vaderSentiment-3.3.2-py2.py3-none-any.whl.metadata (572 bytes)\n",
            "Collecting requests (from vaderSentiment)\n",
            "  Downloading requests-2.32.2-py3-none-any.whl.metadata (4.6 kB)\n",
            "Collecting charset-normalizer<4,>=2 (from requests->vaderSentiment)\n",
            "  Downloading charset_normalizer-3.3.2-cp312-cp312-win_amd64.whl.metadata (34 kB)\n",
            "Collecting idna<4,>=2.5 (from requests->vaderSentiment)\n",
            "  Downloading idna-3.7-py3-none-any.whl.metadata (9.9 kB)\n",
            "Collecting urllib3<3,>=1.21.1 (from requests->vaderSentiment)\n",
            "  Downloading urllib3-2.2.1-py3-none-any.whl.metadata (6.4 kB)\n",
            "Collecting certifi>=2017.4.17 (from requests->vaderSentiment)\n",
            "  Downloading certifi-2024.2.2-py3-none-any.whl.metadata (2.2 kB)\n",
            "Downloading vaderSentiment-3.3.2-py2.py3-none-any.whl (125 kB)\n",
            "   ---------------------------------------- 0.0/126.0 kB ? eta -:--:--\n",
            "   -------------------------- ------------- 81.9/126.0 kB 2.3 MB/s eta 0:00:01\n",
            "   ---------------------------------------- 126.0/126.0 kB 2.5 MB/s eta 0:00:00\n",
            "Downloading requests-2.32.2-py3-none-any.whl (63 kB)\n",
            "   ---------------------------------------- 0.0/63.9 kB ? eta -:--:--\n",
            "   ---------------------------------------- 63.9/63.9 kB 3.6 MB/s eta 0:00:00\n",
            "Downloading certifi-2024.2.2-py3-none-any.whl (163 kB)\n",
            "   ---------------------------------------- 0.0/163.8 kB ? eta -:--:--\n",
            "   ---------------------------------------- 163.8/163.8 kB 9.6 MB/s eta 0:00:00\n",
            "Downloading charset_normalizer-3.3.2-cp312-cp312-win_amd64.whl (100 kB)\n",
            "   ---------------------------------------- 0.0/100.4 kB ? eta -:--:--\n",
            "   ---------------------------------------- 100.4/100.4 kB ? eta 0:00:00\n",
            "Downloading idna-3.7-py3-none-any.whl (66 kB)\n",
            "   ---------------------------------------- 0.0/66.8 kB ? eta -:--:--\n",
            "   ---------------------------------------- 66.8/66.8 kB 3.5 MB/s eta 0:00:00\n",
            "Downloading urllib3-2.2.1-py3-none-any.whl (121 kB)\n",
            "   ---------------------------------------- 0.0/121.1 kB ? eta -:--:--\n",
            "   ---------------------------------------- 121.1/121.1 kB 7.4 MB/s eta 0:00:00\n",
            "Installing collected packages: urllib3, idna, charset-normalizer, certifi, requests, vaderSentiment\n",
            "Successfully installed certifi-2024.2.2 charset-normalizer-3.3.2 idna-3.7 requests-2.32.2 urllib3-2.2.1 vaderSentiment-3.3.2\n"
          ]
        }
      ],
      "source": [
        "!pip install vaderSentiment"
      ]
    },
    {
      "cell_type": "code",
      "execution_count": 69,
      "metadata": {
        "id": "6nQRnuF33NPe"
      },
      "outputs": [],
      "source": [
        "# Vader sentiment Analyzer\n",
        "from vaderSentiment.vaderSentiment import SentimentIntensityAnalyzer # for polarity score\n",
        "analyser = SentimentIntensityAnalyzer()\n",
        "\n",
        "\n",
        "def pos(tweet):\n",
        "    SentDict = analyser.polarity_scores(tweet)\n",
        "    return SentDict['pos']\n",
        "\n",
        "def neg(tweet):\n",
        "    SentDict = analyser.polarity_scores(tweet)\n",
        "    return SentDict['neg']\n",
        "\n",
        "def neu(tweet):\n",
        "    SentDict = analyser.polarity_scores(tweet)\n",
        "    return SentDict['neu']"
      ]
    },
    {
      "cell_type": "code",
      "execution_count": 71,
      "metadata": {
        "id": "6w5QW6I1UF9y"
      },
      "outputs": [],
      "source": [
        "from sklearn.feature_extraction import text\n",
        "import string\n",
        "stop = text.ENGLISH_STOP_WORDS\n",
        "message['text'] = message['text'].apply(lambda x: ' '.join([word for word in x.split() if word not in (stop)]))\n",
        "#rahul_df['Tweet'] = rahul_df['Tweet'].apply(lambda x: ' '.join([word for word in x.split() if word not in (stop)]))\n",
        "\n",
        "def remove_punctuations(text):\n",
        "    for punctuation in string.punctuation:\n",
        "        text = text.replace(punctuation, '')\n",
        "    return text\n",
        "\n",
        "message['text'] = message['text'].apply(remove_punctuations)\n",
        "#rahul_df['Tweet'] = rahul_df['Tweet'].apply(remove_punctuations)"
      ]
    },
    {
      "cell_type": "code",
      "execution_count": 72,
      "metadata": {
        "id": "_y_ESPFG2vgf"
      },
      "outputs": [],
      "source": [
        "message['pos'] = message['text'].apply(lambda x :pos(x))\n",
        "message['neg'] = message['text'].apply(lambda x :neg(x))\n",
        "message['neu'] = message['text'].apply(lambda x :neu(x))"
      ]
    },
    {
      "cell_type": "code",
      "execution_count": 74,
      "metadata": {
        "colab": {
          "base_uri": "https://localhost:8080/",
          "height": 450
        },
        "id": "MeCquE0s28XO",
        "outputId": "07d90353-2a51-4070-acf0-49286c18ff6d"
      },
      "outputs": [
        {
          "name": "stderr",
          "output_type": "stream",
          "text": [
            "C:\\Users\\hp\\AppData\\Local\\Temp\\ipykernel_748\\70986573.py:14: FutureWarning: ChainedAssignmentError: behaviour will change in pandas 3.0!\n",
            "You are setting values through chained assignment. Currently this works in certain cases, but when using Copy-on-Write (which will become the default behaviour in pandas 3.0) this will never work to update the original DataFrame or Series, because the intermediate object on which we are setting values will behave as a copy.\n",
            "A typical example is when you are setting values in a column of a DataFrame, like:\n",
            "\n",
            "df[\"col\"][row_indexer] = value\n",
            "\n",
            "Use `df.loc[row_indexer, \"col\"] = values` instead, to perform the assignment in a single step and ensure this keeps updating the original `df`.\n",
            "\n",
            "See the caveats in the documentation: https://pandas.pydata.org/pandas-docs/stable/user_guide/indexing.html#returning-a-view-versus-a-copy\n",
            "\n",
            "  message['FinalEmotion'][i]='neutral'\n",
            "C:\\Users\\hp\\AppData\\Local\\Temp\\ipykernel_748\\70986573.py:14: SettingWithCopyWarning: \n",
            "A value is trying to be set on a copy of a slice from a DataFrame\n",
            "\n",
            "See the caveats in the documentation: https://pandas.pydata.org/pandas-docs/stable/user_guide/indexing.html#returning-a-view-versus-a-copy\n",
            "  message['FinalEmotion'][i]='neutral'\n",
            "C:\\Users\\hp\\AppData\\Local\\Temp\\ipykernel_748\\70986573.py:14: FutureWarning: Setting an item of incompatible dtype is deprecated and will raise an error in a future version of pandas. Value 'neutral' has dtype incompatible with float64, please explicitly cast to a compatible dtype first.\n",
            "  message['FinalEmotion'][i]='neutral'\n"
          ]
        },
        {
          "data": {
            "text/html": [
              "<div>\n",
              "<style scoped>\n",
              "    .dataframe tbody tr th:only-of-type {\n",
              "        vertical-align: middle;\n",
              "    }\n",
              "\n",
              "    .dataframe tbody tr th {\n",
              "        vertical-align: top;\n",
              "    }\n",
              "\n",
              "    .dataframe thead th {\n",
              "        text-align: right;\n",
              "    }\n",
              "</style>\n",
              "<table border=\"1\" class=\"dataframe\">\n",
              "  <thead>\n",
              "    <tr style=\"text-align: right;\">\n",
              "      <th></th>\n",
              "      <th>text</th>\n",
              "      <th>label</th>\n",
              "      <th>length</th>\n",
              "      <th>OptimizeEmotional</th>\n",
              "      <th>pos</th>\n",
              "      <th>neg</th>\n",
              "      <th>neu</th>\n",
              "      <th>FinalEmotion</th>\n",
              "    </tr>\n",
              "  </thead>\n",
              "  <tbody>\n",
              "    <tr>\n",
              "      <th>0</th>\n",
              "      <td>oh gosh</td>\n",
              "      <td>1</td>\n",
              "      <td>10</td>\n",
              "      <td>0.0000</td>\n",
              "      <td>0.000</td>\n",
              "      <td>0.000</td>\n",
              "      <td>1.000</td>\n",
              "      <td>neutral</td>\n",
              "    </tr>\n",
              "    <tr>\n",
              "      <th>1</th>\n",
              "      <td>trouble sleeping confused mind restless heart ...</td>\n",
              "      <td>1</td>\n",
              "      <td>64</td>\n",
              "      <td>-0.7269</td>\n",
              "      <td>0.275</td>\n",
              "      <td>0.464</td>\n",
              "      <td>0.261</td>\n",
              "      <td>negative</td>\n",
              "    </tr>\n",
              "    <tr>\n",
              "      <th>2</th>\n",
              "      <td>All wrong dear forward doubt Stay restless res...</td>\n",
              "      <td>1</td>\n",
              "      <td>78</td>\n",
              "      <td>-0.7351</td>\n",
              "      <td>0.159</td>\n",
              "      <td>0.598</td>\n",
              "      <td>0.244</td>\n",
              "      <td>negative</td>\n",
              "    </tr>\n",
              "    <tr>\n",
              "      <th>3</th>\n",
              "      <td>Ive shifted focus Im worried</td>\n",
              "      <td>1</td>\n",
              "      <td>61</td>\n",
              "      <td>-0.4215</td>\n",
              "      <td>0.000</td>\n",
              "      <td>0.355</td>\n",
              "      <td>0.645</td>\n",
              "      <td>neutral</td>\n",
              "    </tr>\n",
              "    <tr>\n",
              "      <th>4</th>\n",
              "      <td>Im restless restless month boy What mean</td>\n",
              "      <td>1</td>\n",
              "      <td>72</td>\n",
              "      <td>-0.4939</td>\n",
              "      <td>0.000</td>\n",
              "      <td>0.457</td>\n",
              "      <td>0.543</td>\n",
              "      <td>neutral</td>\n",
              "    </tr>\n",
              "    <tr>\n",
              "      <th>5</th>\n",
              "      <td>break nervous like wrong heck</td>\n",
              "      <td>1</td>\n",
              "      <td>76</td>\n",
              "      <td>-0.2144</td>\n",
              "      <td>0.258</td>\n",
              "      <td>0.536</td>\n",
              "      <td>0.206</td>\n",
              "      <td>negative</td>\n",
              "    </tr>\n",
              "    <tr>\n",
              "      <th>6</th>\n",
              "      <td>I feel scared anxious I And family protected</td>\n",
              "      <td>1</td>\n",
              "      <td>78</td>\n",
              "      <td>0.2500</td>\n",
              "      <td>0.227</td>\n",
              "      <td>0.383</td>\n",
              "      <td>0.391</td>\n",
              "      <td>neutral</td>\n",
              "    </tr>\n",
              "    <tr>\n",
              "      <th>7</th>\n",
              "      <td>Have felt nervous didnt know</td>\n",
              "      <td>1</td>\n",
              "      <td>47</td>\n",
              "      <td>-0.1406</td>\n",
              "      <td>0.000</td>\n",
              "      <td>0.344</td>\n",
              "      <td>0.656</td>\n",
              "      <td>neutral</td>\n",
              "    </tr>\n",
              "    <tr>\n",
              "      <th>8</th>\n",
              "      <td>I havent slept 2 days like Im restless huh</td>\n",
              "      <td>1</td>\n",
              "      <td>70</td>\n",
              "      <td>-0.1063</td>\n",
              "      <td>0.216</td>\n",
              "      <td>0.181</td>\n",
              "      <td>0.603</td>\n",
              "      <td>neutral</td>\n",
              "    </tr>\n",
              "    <tr>\n",
              "      <th>9</th>\n",
              "      <td>Im really worried I want</td>\n",
              "      <td>1</td>\n",
              "      <td>34</td>\n",
              "      <td>-0.6142</td>\n",
              "      <td>0.222</td>\n",
              "      <td>0.353</td>\n",
              "      <td>0.425</td>\n",
              "      <td>neutral</td>\n",
              "    </tr>\n",
              "  </tbody>\n",
              "</table>\n",
              "</div>"
            ],
            "text/plain": [
              "                                                text  label  length  \\\n",
              "0                                            oh gosh      1      10   \n",
              "1  trouble sleeping confused mind restless heart ...      1      64   \n",
              "2  All wrong dear forward doubt Stay restless res...      1      78   \n",
              "3                       Ive shifted focus Im worried      1      61   \n",
              "4           Im restless restless month boy What mean      1      72   \n",
              "5                      break nervous like wrong heck      1      76   \n",
              "6       I feel scared anxious I And family protected      1      78   \n",
              "7                       Have felt nervous didnt know      1      47   \n",
              "8         I havent slept 2 days like Im restless huh      1      70   \n",
              "9                           Im really worried I want      1      34   \n",
              "\n",
              "   OptimizeEmotional    pos    neg    neu FinalEmotion  \n",
              "0             0.0000  0.000  0.000  1.000      neutral  \n",
              "1            -0.7269  0.275  0.464  0.261     negative  \n",
              "2            -0.7351  0.159  0.598  0.244     negative  \n",
              "3            -0.4215  0.000  0.355  0.645      neutral  \n",
              "4            -0.4939  0.000  0.457  0.543      neutral  \n",
              "5            -0.2144  0.258  0.536  0.206     negative  \n",
              "6             0.2500  0.227  0.383  0.391      neutral  \n",
              "7            -0.1406  0.000  0.344  0.656      neutral  \n",
              "8            -0.1063  0.216  0.181  0.603      neutral  \n",
              "9            -0.6142  0.222  0.353  0.425      neutral  "
            ]
          },
          "execution_count": 74,
          "metadata": {},
          "output_type": "execute_result"
        }
      ],
      "source": [
        "emotion=[]\n",
        "for i in range(0,len(message)):\n",
        "    emotion.append(max(message['pos'][i],message['neu'][i],message['neg'][i]))\n",
        "\n",
        "message['FinalEmotion']=emotion\n",
        "\n",
        "\n",
        "for i in range(0,len(message)):\n",
        "    if message['FinalEmotion'][i]==message['pos'][i]:\n",
        "        message['FinalEmotion'][i]='positive'\n",
        "    elif message['FinalEmotion'][i]==message['neg'][i]:\n",
        "        message['FinalEmotion'][i]='negative' \n",
        "    elif message['FinalEmotion'][i]==message['neu'][i]:\n",
        "        message['FinalEmotion'][i]='neutral'\n",
        "message"
      ]
    },
    {
      "cell_type": "code",
      "execution_count": null,
      "metadata": {
        "id": "EC-1ySvS3hmd"
      },
      "outputs": [],
      "source": []
    }
  ],
  "metadata": {
    "colab": {
      "provenance": []
    },
    "kernelspec": {
      "display_name": "Python 3",
      "language": "python",
      "name": "python3"
    },
    "language_info": {
      "codemirror_mode": {
        "name": "ipython",
        "version": 3
      },
      "file_extension": ".py",
      "mimetype": "text/x-python",
      "name": "python",
      "nbconvert_exporter": "python",
      "pygments_lexer": "ipython3",
      "version": "3.12.3"
    }
  },
  "nbformat": 4,
  "nbformat_minor": 0
}
